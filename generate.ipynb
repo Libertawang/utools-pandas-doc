{
 "cells": [
  {
   "cell_type": "code",
   "execution_count": 1,
   "metadata": {},
   "outputs": [],
   "source": [
    "import requests\n",
    "import pandas as pd\n",
    "from bs4 import BeautifulSoup\n",
    "import os"
   ]
  },
  {
   "cell_type": "code",
   "execution_count": 2,
   "metadata": {},
   "outputs": [],
   "source": [
    "def get_soup(url):\n",
    "    response = requests.get(f'{main_url}/{url}')\n",
    "    soup = BeautifulSoup(response.content)\n",
    "    return soup"
   ]
  },
  {
   "cell_type": "code",
   "execution_count": 18,
   "metadata": {},
   "outputs": [],
   "source": [
    "def write_html(title_text,main):\n",
    "    head = '''<!DOCTYPE html>\n",
    "<html xmlns=\"http://www.w3.org/1999/xhtml\"><head><meta http-equiv=\"Content-Type\" content=\"text/html; charset=UTF-8\">\n",
    "    \n",
    "    <title></title>\n",
    "    <link rel=\"stylesheet\" href=\"../css/basic.css\" type=\"text/css\">\n",
    "    <link rel=\"stylesheet\" href=\"../css/pygments.css\" type=\"text/css\">\n",
    "    <link href=\"../css/index.css\" rel=\"stylesheet\">\n",
    "    <style type=\"text/css\">#MathJax_About {position: fixed; left: 50%; width: auto; text-align: center; border: 3px outset; padding: 1em 2em; background-color: #DDDDDD; color: black; cursor: default; font-family: message-box; font-size: 120%; font-style: normal; text-indent: 0; text-transform: none; line-height: normal; letter-spacing: normal; word-spacing: normal; word-wrap: normal; white-space: nowrap; float: none; z-index: 201; border-radius: 15px; -webkit-border-radius: 15px; -moz-border-radius: 15px; -khtml-border-radius: 15px; box-shadow: 0px 10px 20px #808080; -webkit-box-shadow: 0px 10px 20px #808080; -moz-box-shadow: 0px 10px 20px #808080; -khtml-box-shadow: 0px 10px 20px #808080; filter: progid:DXImageTransform.Microsoft.dropshadow(OffX=2, OffY=2, Color='gray', Positive='true')}\n",
    "    #MathJax_About.MathJax_MousePost {outline: none}\n",
    "    .MathJax_Menu {position: absolute; background-color: white; color: black; width: auto; padding: 5px 0px; border: 1px solid #CCCCCC; margin: 0; cursor: default; font: menu; text-align: left; text-indent: 0; text-transform: none; line-height: normal; letter-spacing: normal; word-spacing: normal; word-wrap: normal; white-space: nowrap; float: none; z-index: 201; border-radius: 5px; -webkit-border-radius: 5px; -moz-border-radius: 5px; -khtml-border-radius: 5px; box-shadow: 0px 10px 20px #808080; -webkit-box-shadow: 0px 10px 20px #808080; -moz-box-shadow: 0px 10px 20px #808080; -khtml-box-shadow: 0px 10px 20px #808080; filter: progid:DXImageTransform.Microsoft.dropshadow(OffX=2, OffY=2, Color='gray', Positive='true')}\n",
    "    .MathJax_MenuItem {padding: 1px 2em; background: transparent}\n",
    "    .MathJax_MenuArrow {position: absolute; right: .5em; padding-top: .25em; color: #666666; font-size: .75em}\n",
    "    .MathJax_MenuActive .MathJax_MenuArrow {color: white}\n",
    "    .MathJax_MenuArrow.RTL {left: .5em; right: auto}\n",
    "    .MathJax_MenuCheck {position: absolute; left: .7em}\n",
    "    .MathJax_MenuCheck.RTL {right: .7em; left: auto}\n",
    "    .MathJax_MenuRadioCheck {position: absolute; left: .7em}\n",
    "    .MathJax_MenuRadioCheck.RTL {right: .7em; left: auto}\n",
    "    .MathJax_MenuLabel {padding: 1px 2em 3px 1.33em; font-style: italic}\n",
    "    .MathJax_MenuRule {border-top: 1px solid #DDDDDD; margin: 4px 3px}\n",
    "    .MathJax_MenuDisabled {color: GrayText}\n",
    "    .MathJax_MenuActive {background-color: #606872; color: white}\n",
    "    .MathJax_MenuDisabled:focus, .MathJax_MenuLabel:focus {background-color: #E8E8E8}\n",
    "    .MathJax_ContextMenu:focus {outline: none}\n",
    "    .MathJax_ContextMenu .MathJax_MenuItem:focus {outline: none}\n",
    "    #MathJax_AboutClose {top: .2em; right: .2em}\n",
    "    .MathJax_Menu .MathJax_MenuClose {top: -10px; left: -10px}\n",
    "    .MathJax_MenuClose {position: absolute; cursor: pointer; display: inline-block; border: 2px solid #AAA; border-radius: 18px; -webkit-border-radius: 18px; -moz-border-radius: 18px; -khtml-border-radius: 18px; font-family: 'Courier New',Courier; font-size: 24px; color: #F0F0F0}\n",
    "    .MathJax_MenuClose span {display: block; background-color: #AAA; border: 1.5px solid; border-radius: 18px; -webkit-border-radius: 18px; -moz-border-radius: 18px; -khtml-border-radius: 18px; line-height: 0; padding: 8px 0 6px}\n",
    "    .MathJax_MenuClose:hover {color: white!important; border: 2px solid #CCC!important}\n",
    "    .MathJax_MenuClose:hover span {background-color: #CCC!important}\n",
    "    .MathJax_MenuClose:hover:focus {outline: none}\n",
    "    </style>\n",
    "    <style type=\"text/css\">.MathJax_Preview .MJXf-math {color: inherit!important}\n",
    "    </style>\n",
    "    <style type=\"text/css\">.MJX_Assistive_MathML {position: absolute!important; top: 0; left: 0; clip: rect(1px, 1px, 1px, 1px); padding: 1px 0 0 0!important; border: 0!important; height: 1px!important; width: 1px!important; overflow: hidden!important; display: block!important; -webkit-touch-callout: none; -webkit-user-select: none; -khtml-user-select: none; -moz-user-select: none; -ms-user-select: none; user-select: none}\n",
    "    .MJX_Assistive_MathML.MJX_Assistive_MathML_Block {width: 100%!important}\n",
    "    </style>\n",
    "    <style type=\"text/css\">#MathJax_Zoom {position: absolute; background-color: #F0F0F0; overflow: auto; display: block; z-index: 301; padding: .5em; border: 1px solid black; margin: 0; font-weight: normal; font-style: normal; text-align: left; text-indent: 0; text-transform: none; line-height: normal; letter-spacing: normal; word-spacing: normal; word-wrap: normal; white-space: nowrap; float: none; -webkit-box-sizing: content-box; -moz-box-sizing: content-box; box-sizing: content-box; box-shadow: 5px 5px 15px #AAAAAA; -webkit-box-shadow: 5px 5px 15px #AAAAAA; -moz-box-shadow: 5px 5px 15px #AAAAAA; -khtml-box-shadow: 5px 5px 15px #AAAAAA; filter: progid:DXImageTransform.Microsoft.dropshadow(OffX=2, OffY=2, Color='gray', Positive='true')}\n",
    "    #MathJax_ZoomOverlay {position: absolute; left: 0; top: 0; z-index: 300; display: inline-block; width: 100%; height: 100%; border: 0; padding: 0; margin: 0; background-color: white; opacity: 0; filter: alpha(opacity=0)}\n",
    "    #MathJax_ZoomFrame {position: relative; display: inline-block; height: 0; width: 0}\n",
    "    #MathJax_ZoomEventTrap {position: absolute; left: 0; top: 0; z-index: 302; display: inline-block; border: 0; padding: 0; margin: 0; background-color: white; opacity: 0; filter: alpha(opacity=0)}\n",
    "    </style>\n",
    "    <style type=\"text/css\">.MathJax_Preview {color: #888}\n",
    "    #MathJax_Message {position: fixed; left: 1em; bottom: 1.5em; background-color: #E6E6E6; border: 1px solid #959595; margin: 0px; padding: 2px 8px; z-index: 102; color: black; font-size: 80%; width: auto; white-space: nowrap}\n",
    "    #MathJax_MSIE_Frame {position: absolute; top: 0; left: 0; width: 0px; z-index: 101; border: 0px; margin: 0px; padding: 0px}\n",
    "    .MathJax_Error {color: #CC0000; font-style: italic}\n",
    "    </style>\n",
    "</head>\n",
    "  <body>'''\n",
    "    tail = '''</body></html>'''\n",
    "    with open(f'./api/{title_text}.html','w', encoding=\"utf-8\") as html:\n",
    "        html.write(f'{head}\\n{main}\\n{tail}')"
   ]
  },
  {
   "cell_type": "code",
   "execution_count": 20,
   "metadata": {},
   "outputs": [
    {
     "name": "stdout",
     "output_type": "stream",
     "text": [
      "io.html\t\n",
      "Input/output\n",
      "\n",
      "general_functions.html\t\n",
      "General functions\n",
      "\n",
      "series.html\t\n",
      "Series\n",
      "\n",
      "frame.html\t\n",
      "DataFrame\n",
      "\n",
      "arrays.html\t\n",
      "pandas arrays\n",
      "\n",
      "indexing.html\t\n",
      "Index objects\n",
      "\n",
      "offset_frequency.html\t\n",
      "Date offsets\n",
      "\n",
      "window.html\t\n",
      "Window\n",
      "\n",
      "groupby.html\t\n",
      "GroupBy\n",
      "\n",
      "resampling.html\t\n",
      "Resampling\n",
      "\n",
      "style.html\t\n",
      "Style\n",
      "\n",
      "plotting.html\t\n",
      "Plotting\n",
      "\n",
      "general_utility_functions.html\t\n",
      "General utility functions\n",
      "\n",
      "extensions.html\t\n",
      "Extensions\n",
      "\n"
     ]
    }
   ],
   "source": [
    "main_url = 'https://pandas.pydata.org/pandas-docs/stable/reference'\n",
    "main_soup = get_soup('index.html')\n",
    "indexes_json = pd.DataFrame(columns=['t','d','p'])\n",
    "for chapter in main_soup.select('.nav>li>a'):\n",
    "    print(f\"{chapter['href']}\\t{chapter.text}\")\n",
    "    chapter_soup = get_soup(chapter[\"href\"])\n",
    "    for table in chapter_soup.find_all('table',{'class':'longtable table autosummary'}):\n",
    "        for tr in table.select('tr'):\n",
    "            title,description = tr.select('td')\n",
    "            description_text = description.p.text\n",
    "            title_text = title.a['title']\n",
    "            title_url = title.a['href']\n",
    "            if os.path.exists(f'./api/{title_text}.html'):\n",
    "                continue\n",
    "            else:\n",
    "                method_soup = get_soup(title_url)\n",
    "                main = method_soup.find('div', {'class':'section'})\n",
    "                write_html(title_text,main)\n",
    "                indexes_json.loc[title_text] = [title_text,description_text,title_url]\n",
    "indexes_json.to_json('./indexes.json',orient='records')"
   ]
  },
  {
   "cell_type": "code",
   "execution_count": null,
   "metadata": {},
   "outputs": [],
   "source": []
  },
  {
   "cell_type": "code",
   "execution_count": null,
   "metadata": {},
   "outputs": [],
   "source": []
  },
  {
   "cell_type": "code",
   "execution_count": null,
   "metadata": {},
   "outputs": [],
   "source": []
  },
  {
   "cell_type": "code",
   "execution_count": null,
   "metadata": {},
   "outputs": [],
   "source": []
  },
  {
   "cell_type": "code",
   "execution_count": null,
   "metadata": {},
   "outputs": [],
   "source": []
  },
  {
   "cell_type": "code",
   "execution_count": null,
   "metadata": {},
   "outputs": [],
   "source": []
  },
  {
   "cell_type": "code",
   "execution_count": null,
   "metadata": {},
   "outputs": [],
   "source": []
  },
  {
   "cell_type": "code",
   "execution_count": null,
   "metadata": {},
   "outputs": [],
   "source": []
  },
  {
   "cell_type": "code",
   "execution_count": null,
   "metadata": {},
   "outputs": [],
   "source": []
  },
  {
   "cell_type": "code",
   "execution_count": null,
   "metadata": {},
   "outputs": [],
   "source": []
  },
  {
   "cell_type": "code",
   "execution_count": null,
   "metadata": {},
   "outputs": [],
   "source": []
  },
  {
   "cell_type": "code",
   "execution_count": null,
   "metadata": {},
   "outputs": [],
   "source": []
  },
  {
   "cell_type": "code",
   "execution_count": null,
   "metadata": {},
   "outputs": [],
   "source": []
  },
  {
   "cell_type": "code",
   "execution_count": null,
   "metadata": {},
   "outputs": [],
   "source": []
  },
  {
   "cell_type": "code",
   "execution_count": null,
   "metadata": {},
   "outputs": [],
   "source": []
  },
  {
   "cell_type": "code",
   "execution_count": null,
   "metadata": {},
   "outputs": [],
   "source": []
  },
  {
   "cell_type": "code",
   "execution_count": null,
   "metadata": {},
   "outputs": [],
   "source": []
  },
  {
   "cell_type": "code",
   "execution_count": null,
   "metadata": {},
   "outputs": [],
   "source": []
  },
  {
   "cell_type": "code",
   "execution_count": null,
   "metadata": {},
   "outputs": [],
   "source": []
  },
  {
   "cell_type": "code",
   "execution_count": null,
   "metadata": {},
   "outputs": [],
   "source": []
  },
  {
   "cell_type": "code",
   "execution_count": null,
   "metadata": {},
   "outputs": [],
   "source": []
  },
  {
   "cell_type": "code",
   "execution_count": null,
   "metadata": {},
   "outputs": [],
   "source": []
  },
  {
   "cell_type": "code",
   "execution_count": null,
   "metadata": {},
   "outputs": [],
   "source": []
  },
  {
   "cell_type": "code",
   "execution_count": null,
   "metadata": {},
   "outputs": [],
   "source": []
  },
  {
   "cell_type": "code",
   "execution_count": null,
   "metadata": {},
   "outputs": [],
   "source": []
  },
  {
   "cell_type": "code",
   "execution_count": null,
   "metadata": {},
   "outputs": [],
   "source": []
  }
 ],
 "metadata": {
  "kernelspec": {
   "display_name": "Python 3",
   "language": "python",
   "name": "python3"
  },
  "language_info": {
   "codemirror_mode": {
    "name": "ipython",
    "version": 3
   },
   "file_extension": ".py",
   "mimetype": "text/x-python",
   "name": "python",
   "nbconvert_exporter": "python",
   "pygments_lexer": "ipython3",
   "version": "3.8.8"
  }
 },
 "nbformat": 4,
 "nbformat_minor": 2
}
